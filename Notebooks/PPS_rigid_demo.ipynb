{
 "cells": [
  {
   "cell_type": "code",
   "execution_count": 1,
   "id": "fef81123",
   "metadata": {
    "pycharm": {
     "name": "#%%\n"
    }
   },
   "outputs": [
    {
     "name": "stdout",
     "output_type": "stream",
     "text": [
      "/home/marjanalbooyeh/projects/grits/:/home/marjanalbooyeh/projects/cmeutils/:/home/marjanalbooyeh/code/cme-lab/cmeutils/:/home/marjanalbooyeh/projects/polybinder/\n"
     ]
    }
   ],
   "source": [
    "%%bash\n",
    "echo $PYTHONPATH"
   ]
  },
  {
   "cell_type": "code",
   "execution_count": 2,
   "id": "e9c5385d",
   "metadata": {
    "pycharm": {
     "name": "#%%\n"
    }
   },
   "outputs": [
    {
     "name": "stderr",
     "output_type": "stream",
     "text": [
      "Warning: importing 'simtk.openmm' is deprecated.  Import 'openmm' instead.\n"
     ]
    }
   ],
   "source": [
    "from polybinder.system import System, Initializer\n",
    "from polybinder.simulate import Simulation\n",
    "import mbuild as mb\n",
    "import hoomd\n",
    "from mbuild.formats.hoomd_forcefield import to_hoomdsnapshot\n",
    "import numpy as np"
   ]
  },
  {
   "cell_type": "code",
   "execution_count": 3,
   "id": "acfc6f3d",
   "metadata": {
    "pycharm": {
     "name": "#%%\n"
    }
   },
   "outputs": [],
   "source": [
    "import warnings\n",
    "warnings.filterwarnings(\"ignore\")"
   ]
  },
  {
   "cell_type": "code",
   "execution_count": 4,
   "id": "d8c80a86",
   "metadata": {
    "pycharm": {
     "name": "#%%\n"
    }
   },
   "outputs": [],
   "source": [
    "system_params = System(density=1.5,\n",
    "                    molecule=\"PPS\",\n",
    "                    polymer_lengths=8,\n",
    "                    n_compounds=500,\n",
    "                    para_weight=1.0,\n",
    "                   )"
   ]
  },
  {
   "cell_type": "code",
   "execution_count": null,
   "id": "cbfc59a8",
   "metadata": {
    "pycharm": {
     "name": "#%%\n"
    }
   },
   "outputs": [
    {
     "name": "stdout",
     "output_type": "stream",
     "text": [
      "generating compounds...\n",
      "packing...\n",
      "applying ff...\n"
     ]
    }
   ],
   "source": [
    "%%time\n",
    "PPS_rigid_bead = {'R': 'c1ccccc1'}\n",
    "PPS_system = Initializer(system=system_params,\n",
    "                        system_type='pack',\n",
    "                        rigid_bead_smiles=PPS_rigid_bead)"
   ]
  },
  {
   "cell_type": "code",
   "execution_count": 24,
   "id": "fd051e92",
   "metadata": {
    "pycharm": {
     "name": "#%%\n"
    }
   },
   "outputs": [],
   "source": [
    "# pps_comp = PPS_system.mb_compounds[0]"
   ]
  },
  {
   "cell_type": "code",
   "execution_count": 25,
   "id": "8b29759e",
   "metadata": {
    "pycharm": {
     "name": "#%%\n"
    }
   },
   "outputs": [],
   "source": [
    "# pps_comp_cg = CG_Compound(pps_comp, PPS_rigid_bead)\n",
    "# bead_name = [list(pps_comp_cg.mapping.keys())[0].split('...')[0]]"
   ]
  },
  {
   "cell_type": "code",
   "execution_count": 26,
   "id": "6fc51ebf",
   "metadata": {
    "pycharm": {
     "name": "#%%\n"
    }
   },
   "outputs": [],
   "source": [
    "# base_idx = np.array(list(map(np.array, list(pps_comp_cg.mapping.values())[0])))"
   ]
  },
  {
   "cell_type": "code",
   "execution_count": 27,
   "id": "2ffcccc9",
   "metadata": {
    "pycharm": {
     "name": "#%%\n"
    }
   },
   "outputs": [],
   "source": [
    "# all_bead_idx = []\n",
    "# for i in range(PPS_system.system_parms.n_compounds[0]):\n",
    "#     all_bead_idx.extend((base_idx + (pps_comp.n_particles*i)).tolist())\n",
    "    "
   ]
  },
  {
   "cell_type": "code",
   "execution_count": 28,
   "id": "8e11b7c4",
   "metadata": {
    "pycharm": {
     "name": "#%%\n"
    }
   },
   "outputs": [],
   "source": [
    "# system_rigid_ids = np.full(len(PPS_system.system.atoms), -1)\n",
    "# N_rigid_bodies = len(all_bead_idx)\n",
    "# for i, idx in enumerate(all_bead_idx):\n",
    "#     system_rigid_ids[list(idx)] = i\n"
   ]
  },
  {
   "cell_type": "code",
   "execution_count": 29,
   "id": "7edde503",
   "metadata": {
    "pycharm": {
     "name": "#%%\n"
    }
   },
   "outputs": [
    {
     "name": "stdout",
     "output_type": "stream",
     "text": [
      "Processing LJ and QQ\n",
      "No charged groups found, ignoring electrostatics\n",
      "Processing 1-4 interactions, adjusting neighborlist exclusions\n",
      "Processing harmonic bonds\n",
      "Processing harmonic angles\n",
      "Processing periodic torsions\n"
     ]
    }
   ],
   "source": [
    "dt = 0.0001\n",
    "tau_kT = 0.003\n",
    "path = 'logs/test'\n",
    "simulation = Simulation(system=PPS_system, dt=dt, tau_kt=tau_kT, logs_path=path)"
   ]
  },
  {
   "cell_type": "code",
   "execution_count": 30,
   "id": "145c897a",
   "metadata": {
    "pycharm": {
     "name": "#%%\n"
    }
   },
   "outputs": [],
   "source": [
    "kT_init = 2.0\n",
    "kT=1.5\n",
    "shrink_n_steps = 1e6\n",
    "quench_n_steps = 1e6"
   ]
  },
  {
   "cell_type": "code",
   "execution_count": 31,
   "id": "9f2ae8a4",
   "metadata": {
    "pycharm": {
     "name": "#%%\n"
    }
   },
   "outputs": [],
   "source": [
    "simulation.shrink(n_steps=shrink_n_steps, kT_init = kT_init, kT_final=kT)"
   ]
  },
  {
   "cell_type": "code",
   "execution_count": 32,
   "id": "7b3b6ce8",
   "metadata": {
    "pycharm": {
     "name": "#%%\n"
    }
   },
   "outputs": [],
   "source": [
    "simulation.quench(n_steps=quench_n_steps, kT=kT)"
   ]
  },
  {
   "cell_type": "code",
   "execution_count": 33,
   "id": "b27a8102",
   "metadata": {
    "pycharm": {
     "name": "#%%\n"
    }
   },
   "outputs": [
    {
     "data": {
      "text/plain": [
       "hoomd.md.nlist.Cell"
      ]
     },
     "execution_count": 33,
     "metadata": {},
     "output_type": "execute_result"
    }
   ],
   "source": [
    "import hoomd\n",
    "getattr(hoomd.md.nlist, \"Cell\")"
   ]
  },
  {
   "cell_type": "code",
   "execution_count": 29,
   "id": "a89fb80e",
   "metadata": {
    "pycharm": {
     "name": "#%%\n"
    }
   },
   "outputs": [],
   "source": [
    "for force in simulation.integrator.forces:\n",
    "    if np.any(force.torques):\n",
    "        print(force.torques)"
   ]
  },
  {
   "cell_type": "code",
   "execution_count": 17,
   "id": "856b7ee8",
   "metadata": {
    "pycharm": {
     "name": "#%%\n"
    }
   },
   "outputs": [
    {
     "name": "stdout",
     "output_type": "stream",
     "text": [
      "[HOOMDArray([0. 0. 0.]), HOOMDArray([0. 0. 0.]), HOOMDArray([0. 0. 0.]), HOOMDArray([0. 0. 0.]), HOOMDArray([0. 0. 0.]), HOOMDArray([-35.43998778  95.87828659   5.58482124]), HOOMDArray([0. 0. 0.]), HOOMDArray([0. 0. 0.]), HOOMDArray([0. 0. 0.]), HOOMDArray([0. 0. 0.]), HOOMDArray([0. 0. 0.]), HOOMDArray([0. 0. 0.]), HOOMDArray([0. 0. 0.]), HOOMDArray([0. 0. 0.]), HOOMDArray([0. 0. 0.]), HOOMDArray([0. 0. 0.]), HOOMDArray([0. 0. 0.]), HOOMDArray([0. 0. 0.]), HOOMDArray([0. 0. 0.]), HOOMDArray([0. 0. 0.]), HOOMDArray([0. 0. 0.]), HOOMDArray([0. 0. 0.]), HOOMDArray([0. 0. 0.]), HOOMDArray([0. 0. 0.]), HOOMDArray([0. 0. 0.]), HOOMDArray([0. 0. 0.]), HOOMDArray([0. 0. 0.]), HOOMDArray([0. 0. 0.]), HOOMDArray([0. 0. 0.]), HOOMDArray([0. 0. 0.]), HOOMDArray([0. 0. 0.]), HOOMDArray([0. 0. 0.]), HOOMDArray([0. 0. 0.]), HOOMDArray([0. 0. 0.]), HOOMDArray([0. 0. 0.]), HOOMDArray([0. 0. 0.]), HOOMDArray([0. 0. 0.]), HOOMDArray([0. 0. 0.]), HOOMDArray([  95.68573988 -111.80556817   66.61018717]), HOOMDArray([0. 0. 0.]), HOOMDArray([0. 0. 0.]), HOOMDArray([0. 0. 0.]), HOOMDArray([0. 0. 0.]), HOOMDArray([0. 0. 0.]), HOOMDArray([0. 0. 0.]), HOOMDArray([0. 0. 0.]), HOOMDArray([0. 0. 0.]), HOOMDArray([0. 0. 0.]), HOOMDArray([0. 0. 0.]), HOOMDArray([0. 0. 0.]), HOOMDArray([0. 0. 0.]), HOOMDArray([0. 0. 0.]), HOOMDArray([0. 0. 0.]), HOOMDArray([0. 0. 0.]), HOOMDArray([0. 0. 0.]), HOOMDArray([0. 0. 0.]), HOOMDArray([0. 0. 0.]), HOOMDArray([0. 0. 0.]), HOOMDArray([ -8.40970947 225.89507841 -21.32287229]), HOOMDArray([0. 0. 0.]), HOOMDArray([0. 0. 0.]), HOOMDArray([0. 0. 0.]), HOOMDArray([0. 0. 0.]), HOOMDArray([0. 0. 0.]), HOOMDArray([0. 0. 0.]), HOOMDArray([0. 0. 0.]), HOOMDArray([0. 0. 0.]), HOOMDArray([0. 0. 0.]), HOOMDArray([0. 0. 0.]), HOOMDArray([0. 0. 0.]), HOOMDArray([  45.29235406 -179.5126601    24.17744148]), HOOMDArray([0. 0. 0.]), HOOMDArray([0. 0. 0.]), HOOMDArray([0. 0. 0.]), HOOMDArray([0. 0. 0.]), HOOMDArray([0. 0. 0.]), HOOMDArray([0. 0. 0.]), HOOMDArray([  778.25637684    76.03794605 -2783.66253326]), HOOMDArray([0. 0. 0.]), HOOMDArray([0. 0. 0.]), HOOMDArray([0. 0. 0.]), HOOMDArray([0. 0. 0.]), HOOMDArray([0. 0. 0.]), HOOMDArray([0. 0. 0.]), HOOMDArray([0. 0. 0.]), HOOMDArray([0. 0. 0.]), HOOMDArray([0. 0. 0.]), HOOMDArray([0. 0. 0.]), HOOMDArray([0. 0. 0.]), HOOMDArray([0. 0. 0.]), HOOMDArray([0. 0. 0.]), HOOMDArray([0. 0. 0.]), HOOMDArray([-217.34708071   11.88461235  -84.81427522]), HOOMDArray([0. 0. 0.]), HOOMDArray([0. 0. 0.]), HOOMDArray([0. 0. 0.]), HOOMDArray([0. 0. 0.]), HOOMDArray([0. 0. 0.]), HOOMDArray([0. 0. 0.]), HOOMDArray([0. 0. 0.]), HOOMDArray([-248.91721707   43.85561582 -128.05018663]), HOOMDArray([0. 0. 0.]), HOOMDArray([0. 0. 0.]), HOOMDArray([0. 0. 0.]), HOOMDArray([0. 0. 0.]), HOOMDArray([0. 0. 0.]), HOOMDArray([0. 0. 0.]), HOOMDArray([0. 0. 0.]), HOOMDArray([0. 0. 0.]), HOOMDArray([0. 0. 0.]), HOOMDArray([ -4.47706829 -20.11789031  17.68403872]), HOOMDArray([0. 0. 0.]), HOOMDArray([0. 0. 0.]), HOOMDArray([ 198.59190938 -151.97432933  101.36371789]), HOOMDArray([0. 0. 0.]), HOOMDArray([0. 0. 0.]), HOOMDArray([0. 0. 0.]), HOOMDArray([0. 0. 0.]), HOOMDArray([0. 0. 0.]), HOOMDArray([0. 0. 0.]), HOOMDArray([0. 0. 0.]), HOOMDArray([0. 0. 0.]), HOOMDArray([0. 0. 0.]), HOOMDArray([-257.45760574    6.59010218 -147.05670979]), HOOMDArray([0. 0. 0.]), HOOMDArray([0. 0. 0.]), HOOMDArray([0. 0. 0.]), HOOMDArray([0. 0. 0.]), HOOMDArray([0. 0. 0.]), HOOMDArray([0. 0. 0.]), HOOMDArray([0. 0. 0.]), HOOMDArray([0. 0. 0.]), HOOMDArray([0. 0. 0.]), HOOMDArray([0. 0. 0.]), HOOMDArray([0. 0. 0.]), HOOMDArray([0. 0. 0.]), HOOMDArray([-757.12653167 -297.41414345 2884.82669789]), HOOMDArray([0. 0. 0.]), HOOMDArray([0. 0. 0.]), HOOMDArray([0. 0. 0.]), HOOMDArray([0. 0. 0.]), HOOMDArray([0. 0. 0.]), HOOMDArray([  685.29451025  -148.94879389 -2552.61053122]), HOOMDArray([0. 0. 0.]), HOOMDArray([0. 0. 0.]), HOOMDArray([0. 0. 0.]), HOOMDArray([0. 0. 0.]), HOOMDArray([0. 0. 0.]), HOOMDArray([0. 0. 0.]), HOOMDArray([0. 0. 0.]), HOOMDArray([227.48914985 531.67256624 108.25392869]), HOOMDArray([0. 0. 0.]), HOOMDArray([0. 0. 0.]), HOOMDArray([0. 0. 0.]), HOOMDArray([0. 0. 0.]), HOOMDArray([0. 0. 0.]), HOOMDArray([0. 0. 0.]), HOOMDArray([  17.43262728  320.3671058  -135.02608935]), HOOMDArray([0. 0. 0.]), HOOMDArray([0. 0. 0.]), HOOMDArray([0. 0. 0.]), HOOMDArray([0. 0. 0.]), HOOMDArray([0. 0. 0.]), HOOMDArray([0. 0. 0.]), HOOMDArray([0. 0. 0.]), HOOMDArray([0. 0. 0.]), HOOMDArray([0. 0. 0.]), HOOMDArray([0. 0. 0.]), HOOMDArray([0. 0. 0.]), HOOMDArray([0. 0. 0.]), HOOMDArray([0. 0. 0.]), HOOMDArray([0. 0. 0.]), HOOMDArray([0. 0. 0.]), HOOMDArray([0. 0. 0.]), HOOMDArray([0. 0. 0.]), HOOMDArray([0. 0. 0.]), HOOMDArray([0. 0. 0.]), HOOMDArray([0. 0. 0.]), HOOMDArray([0. 0. 0.]), HOOMDArray([0. 0. 0.]), HOOMDArray([0. 0. 0.]), HOOMDArray([319.69929278  60.4870395  265.20912458]), HOOMDArray([0. 0. 0.]), HOOMDArray([0. 0. 0.]), HOOMDArray([0. 0. 0.]), HOOMDArray([0. 0. 0.]), HOOMDArray([0. 0. 0.]), HOOMDArray([0. 0. 0.]), HOOMDArray([0. 0. 0.]), HOOMDArray([0. 0. 0.]), HOOMDArray([0. 0. 0.]), HOOMDArray([0. 0. 0.]), HOOMDArray([0. 0. 0.]), HOOMDArray([0. 0. 0.]), HOOMDArray([0. 0. 0.]), HOOMDArray([0. 0. 0.]), HOOMDArray([0. 0. 0.]), HOOMDArray([0. 0. 0.]), HOOMDArray([0. 0. 0.]), HOOMDArray([0. 0. 0.]), HOOMDArray([0. 0. 0.]), HOOMDArray([0. 0. 0.]), HOOMDArray([0. 0. 0.]), HOOMDArray([0. 0. 0.]), HOOMDArray([-220.90707657   16.3019981  -111.80970504]), HOOMDArray([0. 0. 0.]), HOOMDArray([0. 0. 0.]), HOOMDArray([0. 0. 0.]), HOOMDArray([0. 0. 0.]), HOOMDArray([0. 0. 0.]), HOOMDArray([0. 0. 0.]), HOOMDArray([-37.57887485 119.08931472 -40.1612711 ]), HOOMDArray([0. 0. 0.]), HOOMDArray([0. 0. 0.]), HOOMDArray([0. 0. 0.]), HOOMDArray([0. 0. 0.]), HOOMDArray([0. 0. 0.]), HOOMDArray([0. 0. 0.]), HOOMDArray([184.27436658 -62.65709865 108.32598702]), HOOMDArray([0. 0. 0.]), HOOMDArray([0. 0. 0.]), HOOMDArray([0. 0. 0.]), HOOMDArray([0. 0. 0.]), HOOMDArray([0. 0. 0.]), HOOMDArray([0. 0. 0.]), HOOMDArray([0. 0. 0.]), HOOMDArray([0. 0. 0.]), HOOMDArray([0. 0. 0.]), HOOMDArray([0. 0. 0.]), HOOMDArray([ 117.76656426 -208.53644855   46.69880386]), HOOMDArray([0. 0. 0.]), HOOMDArray([0. 0. 0.]), HOOMDArray([0. 0. 0.]), HOOMDArray([0. 0. 0.]), HOOMDArray([0. 0. 0.]), HOOMDArray([0. 0. 0.]), HOOMDArray([0. 0. 0.]), HOOMDArray([0. 0. 0.]), HOOMDArray([0. 0. 0.]), HOOMDArray([0. 0. 0.]), HOOMDArray([0. 0. 0.]), HOOMDArray([0. 0. 0.]), HOOMDArray([0. 0. 0.]), HOOMDArray([0. 0. 0.]), HOOMDArray([0. 0. 0.]), HOOMDArray([0. 0. 0.]), HOOMDArray([0. 0. 0.]), HOOMDArray([-202.40642701   -8.75292098 -101.1552539 ]), HOOMDArray([0. 0. 0.]), HOOMDArray([0. 0. 0.]), HOOMDArray([0. 0. 0.]), HOOMDArray([0. 0. 0.]), HOOMDArray([0. 0. 0.]), HOOMDArray([0. 0. 0.]), HOOMDArray([0. 0. 0.]), HOOMDArray([0. 0. 0.]), HOOMDArray([0. 0. 0.]), HOOMDArray([0. 0. 0.]), HOOMDArray([ 191.04492517 -132.94005998   99.92958797]), HOOMDArray([0. 0. 0.]), HOOMDArray([0. 0. 0.]), HOOMDArray([0. 0. 0.]), HOOMDArray([0. 0. 0.]), HOOMDArray([0. 0. 0.]), HOOMDArray([0. 0. 0.]), HOOMDArray([0. 0. 0.]), HOOMDArray([0. 0. 0.]), HOOMDArray([0. 0. 0.]), HOOMDArray([0. 0. 0.]), HOOMDArray([ 203.37537345 -132.72632753  114.16879309]), HOOMDArray([0. 0. 0.]), HOOMDArray([0. 0. 0.]), HOOMDArray([0. 0. 0.]), HOOMDArray([0. 0. 0.]), HOOMDArray([0. 0. 0.]), HOOMDArray([0. 0. 0.]), HOOMDArray([0. 0. 0.]), HOOMDArray([0. 0. 0.]), HOOMDArray([0. 0. 0.]), HOOMDArray([0. 0. 0.]), HOOMDArray([0. 0. 0.]), HOOMDArray([0. 0. 0.]), HOOMDArray([0. 0. 0.]), HOOMDArray([0. 0. 0.]), HOOMDArray([0. 0. 0.]), HOOMDArray([0. 0. 0.]), HOOMDArray([ 274.75932647 -103.66253556  169.74623949]), HOOMDArray([0. 0. 0.]), HOOMDArray([0. 0. 0.]), HOOMDArray([0. 0. 0.]), HOOMDArray([0. 0. 0.]), HOOMDArray([0. 0. 0.]), HOOMDArray([0. 0. 0.]), HOOMDArray([0. 0. 0.]), HOOMDArray([0. 0. 0.]), HOOMDArray([0. 0. 0.]), HOOMDArray([0. 0. 0.]), HOOMDArray([0. 0. 0.]), HOOMDArray([0. 0. 0.]), HOOMDArray([ 27.25593234 -40.65479832  -5.50460612]), HOOMDArray([0. 0. 0.]), HOOMDArray([0. 0. 0.]), HOOMDArray([0. 0. 0.]), HOOMDArray([0. 0. 0.]), HOOMDArray([0. 0. 0.]), HOOMDArray([0. 0. 0.]), HOOMDArray([0. 0. 0.]), HOOMDArray([0. 0. 0.]), HOOMDArray([0. 0. 0.]), HOOMDArray([0. 0. 0.]), HOOMDArray([0. 0. 0.]), HOOMDArray([0. 0. 0.]), HOOMDArray([0. 0. 0.]), HOOMDArray([0. 0. 0.]), HOOMDArray([-255.10599864   34.7443953  -141.79687731]), HOOMDArray([0. 0. 0.]), HOOMDArray([0. 0. 0.]), HOOMDArray([0. 0. 0.]), HOOMDArray([0. 0. 0.]), HOOMDArray([0. 0. 0.]), HOOMDArray([0. 0. 0.]), HOOMDArray([0. 0. 0.]), HOOMDArray([0. 0. 0.]), HOOMDArray([0. 0. 0.]), HOOMDArray([0. 0. 0.]), HOOMDArray([0. 0. 0.]), HOOMDArray([0. 0. 0.]), HOOMDArray([0. 0. 0.]), HOOMDArray([0. 0. 0.]), HOOMDArray([0. 0. 0.]), HOOMDArray([0. 0. 0.]), HOOMDArray([0. 0. 0.]), HOOMDArray([0. 0. 0.]), HOOMDArray([0. 0. 0.]), HOOMDArray([178.28238995 -85.62993257 117.01705012]), HOOMDArray([0. 0. 0.]), HOOMDArray([0. 0. 0.]), HOOMDArray([0. 0. 0.]), HOOMDArray([0. 0. 0.]), HOOMDArray([0. 0. 0.]), HOOMDArray([0. 0. 0.]), HOOMDArray([0. 0. 0.]), HOOMDArray([0. 0. 0.]), HOOMDArray([0. 0. 0.]), HOOMDArray([0. 0. 0.]), HOOMDArray([  705.4916475     44.9253411  -2841.38031285]), HOOMDArray([0. 0. 0.]), HOOMDArray([0. 0. 0.]), HOOMDArray([0. 0. 0.]), HOOMDArray([0. 0. 0.]), HOOMDArray([ -7.09231064  -7.71131932 -12.6317252 ]), HOOMDArray([0. 0. 0.]), HOOMDArray([0. 0. 0.]), HOOMDArray([0. 0. 0.]), HOOMDArray([0. 0. 0.]), HOOMDArray([0. 0. 0.]), HOOMDArray([0. 0. 0.]), HOOMDArray([0. 0. 0.]), HOOMDArray([0. 0. 0.]), HOOMDArray([0. 0. 0.]), HOOMDArray([0. 0. 0.]), HOOMDArray([-219.50512151   76.5219498  -130.30459429]), HOOMDArray([0. 0. 0.]), HOOMDArray([0. 0. 0.]), HOOMDArray([0. 0. 0.]), HOOMDArray([0. 0. 0.]), HOOMDArray([0. 0. 0.]), HOOMDArray([0. 0. 0.]), HOOMDArray([0. 0. 0.]), HOOMDArray([0. 0. 0.]), HOOMDArray([0. 0. 0.]), HOOMDArray([344.13408673  34.25135805 239.43843103]), HOOMDArray([0. 0. 0.]), HOOMDArray([0. 0. 0.]), HOOMDArray([0. 0. 0.]), HOOMDArray([0. 0. 0.]), HOOMDArray([0. 0. 0.]), HOOMDArray([0. 0. 0.]), HOOMDArray([0. 0. 0.]), HOOMDArray([0. 0. 0.]), HOOMDArray([0. 0. 0.]), HOOMDArray([0. 0. 0.]), HOOMDArray([0. 0. 0.]), HOOMDArray([0. 0. 0.]), HOOMDArray([0. 0. 0.]), HOOMDArray([0. 0. 0.]), HOOMDArray([0. 0. 0.]), HOOMDArray([0. 0. 0.]), HOOMDArray([218.10112937 -10.65732152 141.03385299]), HOOMDArray([0. 0. 0.]), HOOMDArray([0. 0. 0.]), HOOMDArray([0. 0. 0.]), HOOMDArray([0. 0. 0.]), HOOMDArray([0. 0. 0.]), HOOMDArray([0. 0. 0.]), HOOMDArray([0. 0. 0.]), HOOMDArray([0. 0. 0.]), HOOMDArray([0. 0. 0.]), HOOMDArray([0. 0. 0.]), HOOMDArray([0. 0. 0.]), HOOMDArray([0. 0. 0.]), HOOMDArray([0. 0. 0.]), HOOMDArray([0. 0. 0.]), HOOMDArray([0. 0. 0.]), HOOMDArray([0. 0. 0.]), HOOMDArray([0. 0. 0.]), HOOMDArray([-172.44172891  174.55612257 -135.18153541]), HOOMDArray([0. 0. 0.]), HOOMDArray([0. 0. 0.]), HOOMDArray([0. 0. 0.]), HOOMDArray([0. 0. 0.]), HOOMDArray([0. 0. 0.]), HOOMDArray([0. 0. 0.]), HOOMDArray([0. 0. 0.]), HOOMDArray([217.3591416   -2.78790201 171.91021253]), HOOMDArray([0. 0. 0.]), HOOMDArray([0. 0. 0.]), HOOMDArray([0. 0. 0.]), HOOMDArray([0. 0. 0.]), HOOMDArray([0. 0. 0.]), HOOMDArray([0. 0. 0.]), HOOMDArray([0. 0. 0.]), HOOMDArray([0. 0. 0.]), HOOMDArray([-137.653038    104.70379744  -92.93306458]), HOOMDArray([0. 0. 0.]), HOOMDArray([0. 0. 0.]), HOOMDArray([0. 0. 0.]), HOOMDArray([0. 0. 0.]), HOOMDArray([0. 0. 0.]), HOOMDArray([0. 0. 0.]), HOOMDArray([0. 0. 0.]), HOOMDArray([0. 0. 0.]), HOOMDArray([0. 0. 0.]), HOOMDArray([0. 0. 0.]), HOOMDArray([0. 0. 0.]), HOOMDArray([0. 0. 0.]), HOOMDArray([0. 0. 0.]), HOOMDArray([0. 0. 0.]), HOOMDArray([ 251.66379871 -161.87650746  114.54630689]), HOOMDArray([0. 0. 0.]), HOOMDArray([0. 0. 0.]), HOOMDArray([0. 0. 0.]), HOOMDArray([0. 0. 0.]), HOOMDArray([0. 0. 0.]), HOOMDArray([0. 0. 0.]), HOOMDArray([-97.78924475 -50.4867318   13.68068371]), HOOMDArray([0. 0. 0.]), HOOMDArray([0. 0. 0.]), HOOMDArray([0. 0. 0.]), HOOMDArray([0. 0. 0.]), HOOMDArray([0. 0. 0.]), HOOMDArray([0. 0. 0.]), HOOMDArray([0. 0. 0.]), HOOMDArray([0. 0. 0.]), HOOMDArray([0. 0. 0.]), HOOMDArray([0. 0. 0.]), HOOMDArray([0. 0. 0.]), HOOMDArray([0. 0. 0.]), HOOMDArray([0. 0. 0.]), HOOMDArray([0. 0. 0.]), HOOMDArray([0. 0. 0.]), HOOMDArray([0. 0. 0.]), HOOMDArray([0. 0. 0.]), HOOMDArray([0. 0. 0.]), HOOMDArray([0. 0. 0.]), HOOMDArray([0. 0. 0.]), HOOMDArray([0. 0. 0.]), HOOMDArray([ 113.80224414  711.31234196 -121.90660728]), HOOMDArray([0. 0. 0.]), HOOMDArray([0. 0. 0.]), HOOMDArray([0. 0. 0.]), HOOMDArray([0. 0. 0.]), HOOMDArray([0. 0. 0.]), HOOMDArray([0. 0. 0.]), HOOMDArray([0. 0. 0.]), HOOMDArray([0. 0. 0.]), HOOMDArray([0. 0. 0.]), HOOMDArray([0. 0. 0.]), HOOMDArray([0. 0. 0.]), HOOMDArray([ 80.71764176 -34.65426494  75.3348643 ]), HOOMDArray([0. 0. 0.]), HOOMDArray([0. 0. 0.]), HOOMDArray([0. 0. 0.]), HOOMDArray([0. 0. 0.]), HOOMDArray([0. 0. 0.]), HOOMDArray([0. 0. 0.]), HOOMDArray([0. 0. 0.]), HOOMDArray([0. 0. 0.]), HOOMDArray([0. 0. 0.]), HOOMDArray([0. 0. 0.]), HOOMDArray([0. 0. 0.]), HOOMDArray([0. 0. 0.]), HOOMDArray([0. 0. 0.]), HOOMDArray([0. 0. 0.]), HOOMDArray([0. 0. 0.]), HOOMDArray([0. 0. 0.]), HOOMDArray([0. 0. 0.]), HOOMDArray([-1233.77990901   -13.70212974  2984.49128887]), HOOMDArray([0. 0. 0.]), HOOMDArray([0. 0. 0.]), HOOMDArray([0. 0. 0.]), HOOMDArray([0. 0. 0.]), HOOMDArray([0. 0. 0.]), HOOMDArray([0. 0. 0.]), HOOMDArray([0. 0. 0.]), HOOMDArray([0. 0. 0.]), HOOMDArray([0. 0. 0.]), HOOMDArray([0. 0. 0.]), HOOMDArray([0. 0. 0.]), HOOMDArray([0. 0. 0.]), HOOMDArray([0. 0. 0.]), HOOMDArray([0. 0. 0.]), HOOMDArray([0. 0. 0.]), HOOMDArray([  -16.70329961   170.13240556 -2739.4337668 ]), HOOMDArray([0. 0. 0.]), HOOMDArray([0. 0. 0.]), HOOMDArray([0. 0. 0.]), HOOMDArray([0. 0. 0.]), HOOMDArray([0. 0. 0.]), HOOMDArray([0. 0. 0.]), HOOMDArray([0. 0. 0.]), HOOMDArray([0. 0. 0.]), HOOMDArray([0. 0. 0.]), HOOMDArray([0. 0. 0.]), HOOMDArray([-35.68972872  -3.15952167 -15.66942347]), HOOMDArray([0. 0. 0.]), HOOMDArray([0. 0. 0.]), HOOMDArray([0. 0. 0.]), HOOMDArray([0. 0. 0.]), HOOMDArray([0. 0. 0.]), HOOMDArray([0. 0. 0.]), HOOMDArray([0. 0. 0.]), HOOMDArray([-899.40077373   23.46127904 2797.42446819]), HOOMDArray([0. 0. 0.]), HOOMDArray([0. 0. 0.]), HOOMDArray([0. 0. 0.]), HOOMDArray([0. 0. 0.]), HOOMDArray([0. 0. 0.]), HOOMDArray([0. 0. 0.]), HOOMDArray([0. 0. 0.]), HOOMDArray([0. 0. 0.]), HOOMDArray([0. 0. 0.]), HOOMDArray([0. 0. 0.]), HOOMDArray([0. 0. 0.]), HOOMDArray([0. 0. 0.]), HOOMDArray([-228.3121317    57.29324107 -141.8579544 ]), HOOMDArray([0. 0. 0.]), HOOMDArray([0. 0. 0.]), HOOMDArray([0. 0. 0.]), HOOMDArray([0. 0. 0.]), HOOMDArray([0. 0. 0.]), HOOMDArray([0. 0. 0.]), HOOMDArray([0. 0. 0.]), HOOMDArray([-39.20811366  43.76078647 -27.24389232]), HOOMDArray([0. 0. 0.]), HOOMDArray([0. 0. 0.]), HOOMDArray([0. 0. 0.]), HOOMDArray([0. 0. 0.]), HOOMDArray([0. 0. 0.]), HOOMDArray([0. 0. 0.]), HOOMDArray([0. 0. 0.]), HOOMDArray([0. 0. 0.]), HOOMDArray([0. 0. 0.]), HOOMDArray([0. 0. 0.]), HOOMDArray([0. 0. 0.]), HOOMDArray([0. 0. 0.]), HOOMDArray([-286.56807709   99.57489619 -163.72351956]), HOOMDArray([0. 0. 0.]), HOOMDArray([0. 0. 0.]), HOOMDArray([0. 0. 0.]), HOOMDArray([0. 0. 0.]), HOOMDArray([0. 0. 0.]), HOOMDArray([0. 0. 0.]), HOOMDArray([0. 0. 0.]), HOOMDArray([0. 0. 0.]), HOOMDArray([0. 0. 0.]), HOOMDArray([0. 0. 0.]), HOOMDArray([-352.088688    204.85254686 -238.73920533]), HOOMDArray([0. 0. 0.]), HOOMDArray([0. 0. 0.]), HOOMDArray([0. 0. 0.]), HOOMDArray([0. 0. 0.]), HOOMDArray([0. 0. 0.]), HOOMDArray([0. 0. 0.]), HOOMDArray([0. 0. 0.]), HOOMDArray([0. 0. 0.]), HOOMDArray([0. 0. 0.]), HOOMDArray([0. 0. 0.]), HOOMDArray([0. 0. 0.]), HOOMDArray([0. 0. 0.]), HOOMDArray([0. 0. 0.]), HOOMDArray([0. 0. 0.]), HOOMDArray([0. 0. 0.]), HOOMDArray([0. 0. 0.]), HOOMDArray([-90.33805918 -63.02769304 -59.68389891]), HOOMDArray([0. 0. 0.]), HOOMDArray([0. 0. 0.]), HOOMDArray([0. 0. 0.]), HOOMDArray([0. 0. 0.]), HOOMDArray([0. 0. 0.]), HOOMDArray([0. 0. 0.]), HOOMDArray([0. 0. 0.]), HOOMDArray([207.9157931  -90.86274899 126.14404012]), HOOMDArray([0. 0. 0.]), HOOMDArray([0. 0. 0.]), HOOMDArray([0. 0. 0.]), HOOMDArray([0. 0. 0.]), HOOMDArray([0. 0. 0.]), HOOMDArray([0. 0. 0.]), HOOMDArray([0. 0. 0.]), HOOMDArray([0. 0. 0.]), HOOMDArray([0. 0. 0.]), HOOMDArray([0. 0. 0.]), HOOMDArray([0. 0. 0.]), HOOMDArray([ 170.68735207 -101.73567956   97.42885205]), HOOMDArray([0. 0. 0.]), HOOMDArray([0. 0. 0.]), HOOMDArray([0. 0. 0.]), HOOMDArray([0. 0. 0.]), HOOMDArray([0. 0. 0.]), HOOMDArray([0. 0. 0.]), HOOMDArray([0. 0. 0.]), HOOMDArray([0. 0. 0.]), HOOMDArray([0. 0. 0.]), HOOMDArray([0. 0. 0.]), HOOMDArray([-229.17355628  124.38240287 -159.58495101]), HOOMDArray([0. 0. 0.]), HOOMDArray([0. 0. 0.]), HOOMDArray([0. 0. 0.]), HOOMDArray([0. 0. 0.]), HOOMDArray([0. 0. 0.]), HOOMDArray([0. 0. 0.]), HOOMDArray([0. 0. 0.]), HOOMDArray([0. 0. 0.]), HOOMDArray([0. 0. 0.]), HOOMDArray([0. 0. 0.]), HOOMDArray([0. 0. 0.]), HOOMDArray([0. 0. 0.]), HOOMDArray([0. 0. 0.]), HOOMDArray([0. 0. 0.]), HOOMDArray([0. 0. 0.]), HOOMDArray([213.55409592 -76.01085779 149.29975315]), HOOMDArray([0. 0. 0.]), HOOMDArray([0. 0. 0.]), HOOMDArray([0. 0. 0.]), HOOMDArray([-190.43834531  190.77120491 -156.28774269]), HOOMDArray([0. 0. 0.]), HOOMDArray([0. 0. 0.]), HOOMDArray([0. 0. 0.]), HOOMDArray([0. 0. 0.]), HOOMDArray([0. 0. 0.]), HOOMDArray([0. 0. 0.]), HOOMDArray([0. 0. 0.]), HOOMDArray([0. 0. 0.]), HOOMDArray([0. 0. 0.]), HOOMDArray([0. 0. 0.]), HOOMDArray([0. 0. 0.]), HOOMDArray([0. 0. 0.]), HOOMDArray([0. 0. 0.]), HOOMDArray([0. 0. 0.]), HOOMDArray([ -67.42444834 -195.42632084  -41.73591764]), HOOMDArray([0. 0. 0.]), HOOMDArray([0. 0. 0.]), HOOMDArray([0. 0. 0.]), HOOMDArray([0. 0. 0.]), HOOMDArray([0. 0. 0.]), HOOMDArray([0. 0. 0.]), HOOMDArray([0. 0. 0.]), HOOMDArray([0. 0. 0.]), HOOMDArray([ 156.07068489 -157.48051402   86.5786243 ]), HOOMDArray([0. 0. 0.]), HOOMDArray([0. 0. 0.]), HOOMDArray([0. 0. 0.]), HOOMDArray([0. 0. 0.]), HOOMDArray([0. 0. 0.]), HOOMDArray([0. 0. 0.]), HOOMDArray([0. 0. 0.]), HOOMDArray([0. 0. 0.]), HOOMDArray([0. 0. 0.]), HOOMDArray([0. 0. 0.]), HOOMDArray([0. 0. 0.]), HOOMDArray([0. 0. 0.]), HOOMDArray([0. 0. 0.]), HOOMDArray([0. 0. 0.]), HOOMDArray([0. 0. 0.]), HOOMDArray([0. 0. 0.]), HOOMDArray([0. 0. 0.]), HOOMDArray([0. 0. 0.]), HOOMDArray([0. 0. 0.]), HOOMDArray([0. 0. 0.]), HOOMDArray([0. 0. 0.]), HOOMDArray([-279.44967942   83.79598246 -171.63011787]), HOOMDArray([0. 0. 0.]), HOOMDArray([0. 0. 0.]), HOOMDArray([0. 0. 0.]), HOOMDArray([0. 0. 0.]), HOOMDArray([0. 0. 0.]), HOOMDArray([0. 0. 0.]), HOOMDArray([0. 0. 0.]), HOOMDArray([0. 0. 0.]), HOOMDArray([0. 0. 0.]), HOOMDArray([0. 0. 0.]), HOOMDArray([0. 0. 0.]), HOOMDArray([0. 0. 0.]), HOOMDArray([  5.54269364 -25.4888587    6.40972059]), HOOMDArray([0. 0. 0.]), HOOMDArray([0. 0. 0.]), HOOMDArray([0. 0. 0.]), HOOMDArray([ 22.00064141 -34.03579537  -6.59113952]), HOOMDArray([0. 0. 0.]), HOOMDArray([0. 0. 0.]), HOOMDArray([0. 0. 0.]), HOOMDArray([0. 0. 0.]), HOOMDArray([0. 0. 0.]), HOOMDArray([0. 0. 0.]), HOOMDArray([102.5892525  -54.46879472  64.9743336 ]), HOOMDArray([0. 0. 0.]), HOOMDArray([0. 0. 0.]), HOOMDArray([0. 0. 0.]), HOOMDArray([0. 0. 0.]), HOOMDArray([160.34737183  31.67108997 115.83581388]), HOOMDArray([0. 0. 0.]), HOOMDArray([0. 0. 0.]), HOOMDArray([0. 0. 0.]), HOOMDArray([0. 0. 0.]), HOOMDArray([0. 0. 0.]), HOOMDArray([0. 0. 0.]), HOOMDArray([0. 0. 0.]), HOOMDArray([0. 0. 0.]), HOOMDArray([0. 0. 0.]), HOOMDArray([0. 0. 0.]), HOOMDArray([  9.78840209 -13.69911348   0.17656783]), HOOMDArray([0. 0. 0.]), HOOMDArray([0. 0. 0.]), HOOMDArray([0. 0. 0.]), HOOMDArray([0. 0. 0.]), HOOMDArray([0. 0. 0.]), HOOMDArray([0. 0. 0.]), HOOMDArray([0. 0. 0.]), HOOMDArray([0. 0. 0.]), HOOMDArray([0. 0. 0.]), HOOMDArray([0. 0. 0.]), HOOMDArray([0. 0. 0.]), HOOMDArray([0. 0. 0.]), HOOMDArray([0. 0. 0.]), HOOMDArray([0. 0. 0.]), HOOMDArray([0. 0. 0.]), HOOMDArray([0. 0. 0.]), HOOMDArray([0. 0. 0.]), HOOMDArray([0. 0. 0.]), HOOMDArray([0. 0. 0.]), HOOMDArray([-253.25891212   68.07568549 -150.21132137]), HOOMDArray([0. 0. 0.]), HOOMDArray([0. 0. 0.]), HOOMDArray([0. 0. 0.]), HOOMDArray([0. 0. 0.]), HOOMDArray([0. 0. 0.]), HOOMDArray([0. 0. 0.]), HOOMDArray([0. 0. 0.]), HOOMDArray([0. 0. 0.]), HOOMDArray([0. 0. 0.]), HOOMDArray([0. 0. 0.]), HOOMDArray([-228.71815336   87.24901127 -146.81854254]), HOOMDArray([0. 0. 0.]), HOOMDArray([0. 0. 0.]), HOOMDArray([105.12000401 -70.49196528  74.03116814]), HOOMDArray([0. 0. 0.]), HOOMDArray([0. 0. 0.]), HOOMDArray([0. 0. 0.]), HOOMDArray([0. 0. 0.]), HOOMDArray([0. 0. 0.]), HOOMDArray([0. 0. 0.]), HOOMDArray([0. 0. 0.]), HOOMDArray([0. 0. 0.]), HOOMDArray([0. 0. 0.]), HOOMDArray([0. 0. 0.]), HOOMDArray([0. 0. 0.]), HOOMDArray([0. 0. 0.]), HOOMDArray([0. 0. 0.]), HOOMDArray([0. 0. 0.]), HOOMDArray([0. 0. 0.]), HOOMDArray([0. 0. 0.]), HOOMDArray([0. 0. 0.]), HOOMDArray([0. 0. 0.]), HOOMDArray([0. 0. 0.]), HOOMDArray([0. 0. 0.]), HOOMDArray([0. 0. 0.]), HOOMDArray([0. 0. 0.]), HOOMDArray([0. 0. 0.]), HOOMDArray([0. 0. 0.]), HOOMDArray([0. 0. 0.]), HOOMDArray([116.46140141 -62.62718778  65.01099856]), HOOMDArray([0. 0. 0.]), HOOMDArray([0. 0. 0.]), HOOMDArray([0. 0. 0.]), HOOMDArray([0. 0. 0.]), HOOMDArray([0. 0. 0.]), HOOMDArray([0. 0. 0.]), HOOMDArray([0. 0. 0.]), HOOMDArray([0. 0. 0.]), HOOMDArray([0. 0. 0.]), HOOMDArray([0. 0. 0.]), HOOMDArray([0. 0. 0.]), HOOMDArray([0. 0. 0.]), HOOMDArray([0. 0. 0.]), HOOMDArray([-82.69561914  21.43377413 -52.00371692]), HOOMDArray([0. 0. 0.]), HOOMDArray([0. 0. 0.]), HOOMDArray([0. 0. 0.]), HOOMDArray([0. 0. 0.]), HOOMDArray([0. 0. 0.]), HOOMDArray([0. 0. 0.]), HOOMDArray([0. 0. 0.]), HOOMDArray([0. 0. 0.]), HOOMDArray([ -0.69990877 -17.77312803   9.22162675]), HOOMDArray([0. 0. 0.]), HOOMDArray([0. 0. 0.]), HOOMDArray([0. 0. 0.]), HOOMDArray([0. 0. 0.]), HOOMDArray([0. 0. 0.]), HOOMDArray([0. 0. 0.]), HOOMDArray([0. 0. 0.]), HOOMDArray([0. 0. 0.]), HOOMDArray([ 188.60983234 -137.5027881    99.60948765]), HOOMDArray([0. 0. 0.]), HOOMDArray([0. 0. 0.]), HOOMDArray([0. 0. 0.]), HOOMDArray([0. 0. 0.]), HOOMDArray([0. 0. 0.]), HOOMDArray([0. 0. 0.]), HOOMDArray([0. 0. 0.]), HOOMDArray([0. 0. 0.]), HOOMDArray([-162.70442826   33.40905069  -79.75415124]), HOOMDArray([0. 0. 0.]), HOOMDArray([0. 0. 0.]), HOOMDArray([0. 0. 0.]), HOOMDArray([0. 0. 0.]), HOOMDArray([0. 0. 0.]), HOOMDArray([0. 0. 0.]), HOOMDArray([0. 0. 0.]), HOOMDArray([0. 0. 0.]), HOOMDArray([0. 0. 0.]), HOOMDArray([0. 0. 0.]), HOOMDArray([0. 0. 0.]), HOOMDArray([0. 0. 0.]), HOOMDArray([0. 0. 0.]), HOOMDArray([0. 0. 0.]), HOOMDArray([0. 0. 0.]), HOOMDArray([0. 0. 0.]), HOOMDArray([0. 0. 0.]), HOOMDArray([0. 0. 0.]), HOOMDArray([0. 0. 0.]), HOOMDArray([0. 0. 0.]), HOOMDArray([-1043.55122745    78.4694868   2859.3365017 ]), HOOMDArray([0. 0. 0.]), HOOMDArray([0. 0. 0.]), HOOMDArray([0. 0. 0.]), HOOMDArray([0. 0. 0.]), HOOMDArray([0. 0. 0.]), HOOMDArray([0. 0. 0.]), HOOMDArray([0. 0. 0.]), HOOMDArray([0. 0. 0.]), HOOMDArray([0. 0. 0.]), HOOMDArray([0. 0. 0.]), HOOMDArray([0. 0. 0.]), HOOMDArray([-251.83776047   -2.21931365 -125.557621  ]), HOOMDArray([0. 0. 0.]), HOOMDArray([0. 0. 0.]), HOOMDArray([0. 0. 0.]), HOOMDArray([0. 0. 0.]), HOOMDArray([0. 0. 0.]), HOOMDArray([0. 0. 0.]), HOOMDArray([0. 0. 0.]), HOOMDArray([ -58.59993695 -138.48933109  -21.08167196]), HOOMDArray([0. 0. 0.]), HOOMDArray([0. 0. 0.]), HOOMDArray([0. 0. 0.]), HOOMDArray([0. 0. 0.]), HOOMDArray([-116.94724196  225.6271086  -117.02534495]), HOOMDArray([0. 0. 0.]), HOOMDArray([0. 0. 0.]), HOOMDArray([0. 0. 0.]), HOOMDArray([0. 0. 0.]), HOOMDArray([0. 0. 0.]), HOOMDArray([0. 0. 0.]), HOOMDArray([0. 0. 0.]), HOOMDArray([0. 0. 0.]), HOOMDArray([0. 0. 0.]), HOOMDArray([0. 0. 0.]), HOOMDArray([-26.0140163   95.39500042 -12.01032995]), HOOMDArray([0. 0. 0.]), HOOMDArray([0. 0. 0.]), HOOMDArray([0. 0. 0.]), HOOMDArray([0. 0. 0.]), HOOMDArray([0. 0. 0.]), HOOMDArray([0. 0. 0.]), HOOMDArray([0. 0. 0.]), HOOMDArray([0. 0. 0.]), HOOMDArray([0. 0. 0.]), HOOMDArray([0. 0. 0.]), HOOMDArray([0. 0. 0.]), HOOMDArray([0. 0. 0.]), HOOMDArray([0. 0. 0.]), HOOMDArray([186.5684186  637.16149028 -87.24006198]), HOOMDArray([0. 0. 0.]), HOOMDArray([0. 0. 0.]), HOOMDArray([0. 0. 0.]), HOOMDArray([0. 0. 0.]), HOOMDArray([0. 0. 0.]), HOOMDArray([0. 0. 0.]), HOOMDArray([0. 0. 0.]), HOOMDArray([0. 0. 0.]), HOOMDArray([0. 0. 0.]), HOOMDArray([0. 0. 0.]), HOOMDArray([0. 0. 0.]), HOOMDArray([0. 0. 0.]), HOOMDArray([0. 0. 0.]), HOOMDArray([424.09495481 790.0298957  265.10992917]), HOOMDArray([0. 0. 0.]), HOOMDArray([0. 0. 0.]), HOOMDArray([0. 0. 0.]), HOOMDArray([0. 0. 0.]), HOOMDArray([0. 0. 0.]), HOOMDArray([ 121.01860345 -127.42538995   63.58972531]), HOOMDArray([0. 0. 0.]), HOOMDArray([0. 0. 0.]), HOOMDArray([0. 0. 0.]), HOOMDArray([0. 0. 0.]), HOOMDArray([0. 0. 0.]), HOOMDArray([0. 0. 0.]), HOOMDArray([0. 0. 0.]), HOOMDArray([0. 0. 0.]), HOOMDArray([0. 0. 0.]), HOOMDArray([-876.39718443 -179.39049324 2603.86067248]), HOOMDArray([0. 0. 0.]), HOOMDArray([0. 0. 0.]), HOOMDArray([0. 0. 0.]), HOOMDArray([0. 0. 0.]), HOOMDArray([0. 0. 0.]), HOOMDArray([0. 0. 0.]), HOOMDArray([0. 0. 0.]), HOOMDArray([0. 0. 0.]), HOOMDArray([ -99.16994914  159.56893855 -277.60896389]), HOOMDArray([0. 0. 0.]), HOOMDArray([0. 0. 0.]), HOOMDArray([0. 0. 0.]), HOOMDArray([0. 0. 0.]), HOOMDArray([0. 0. 0.]), HOOMDArray([0. 0. 0.]), HOOMDArray([0. 0. 0.]), HOOMDArray([0. 0. 0.]), HOOMDArray([0. 0. 0.]), HOOMDArray([ 74.66473808 496.95697732 -72.93439   ]), HOOMDArray([0. 0. 0.]), HOOMDArray([0. 0. 0.]), HOOMDArray([0. 0. 0.]), HOOMDArray([0. 0. 0.]), HOOMDArray([0. 0. 0.]), HOOMDArray([0. 0. 0.]), HOOMDArray([0. 0. 0.]), HOOMDArray([0. 0. 0.]), HOOMDArray([0. 0. 0.]), HOOMDArray([0. 0. 0.]), HOOMDArray([0. 0. 0.]), HOOMDArray([0. 0. 0.]), HOOMDArray([0. 0. 0.]), HOOMDArray([0. 0. 0.]), HOOMDArray([0. 0. 0.]), HOOMDArray([0. 0. 0.]), HOOMDArray([0. 0. 0.]), HOOMDArray([0. 0. 0.]), HOOMDArray([242.76089655  -5.74967463 172.96807367]), HOOMDArray([0. 0. 0.]), HOOMDArray([0. 0. 0.]), HOOMDArray([0. 0. 0.]), HOOMDArray([0. 0. 0.]), HOOMDArray([0. 0. 0.]), HOOMDArray([-371.23075646 -627.61608316 -136.36537518]), HOOMDArray([0. 0. 0.]), HOOMDArray([0. 0. 0.]), HOOMDArray([0. 0. 0.]), HOOMDArray([0. 0. 0.]), HOOMDArray([0. 0. 0.]), HOOMDArray([0. 0. 0.]), HOOMDArray([0. 0. 0.]), HOOMDArray([0. 0. 0.]), HOOMDArray([0. 0. 0.]), HOOMDArray([0. 0. 0.]), HOOMDArray([0. 0. 0.]), HOOMDArray([0. 0. 0.]), HOOMDArray([0. 0. 0.]), HOOMDArray([0. 0. 0.]), HOOMDArray([0. 0. 0.]), HOOMDArray([0. 0. 0.]), HOOMDArray([0. 0. 0.]), HOOMDArray([0. 0. 0.]), HOOMDArray([0. 0. 0.]), HOOMDArray([0. 0. 0.]), HOOMDArray([0. 0. 0.]), HOOMDArray([0. 0. 0.]), HOOMDArray([0. 0. 0.]), HOOMDArray([199.43100043 149.20420652 184.55517842]), HOOMDArray([0. 0. 0.]), HOOMDArray([0. 0. 0.]), HOOMDArray([0. 0. 0.]), HOOMDArray([0. 0. 0.]), HOOMDArray([0. 0. 0.]), HOOMDArray([0. 0. 0.]), HOOMDArray([ -5.96037223 -44.96436739 -13.94566115]), HOOMDArray([0. 0. 0.]), HOOMDArray([0. 0. 0.]), HOOMDArray([0. 0. 0.]), HOOMDArray([0. 0. 0.]), HOOMDArray([0. 0. 0.]), HOOMDArray([0. 0. 0.]), HOOMDArray([-254.49235958  174.65973544 -189.4789172 ]), HOOMDArray([0. 0. 0.]), HOOMDArray([0. 0. 0.]), HOOMDArray([0. 0. 0.]), HOOMDArray([0. 0. 0.]), HOOMDArray([0. 0. 0.]), HOOMDArray([0. 0. 0.]), HOOMDArray([0. 0. 0.]), HOOMDArray([0. 0. 0.]), HOOMDArray([0. 0. 0.]), HOOMDArray([0. 0. 0.]), HOOMDArray([0. 0. 0.]), HOOMDArray([0. 0. 0.]), HOOMDArray([0. 0. 0.]), HOOMDArray([0. 0. 0.]), HOOMDArray([0. 0. 0.]), HOOMDArray([0. 0. 0.]), HOOMDArray([0. 0. 0.]), HOOMDArray([0. 0. 0.]), HOOMDArray([0. 0. 0.]), HOOMDArray([0. 0. 0.]), HOOMDArray([0. 0. 0.]), HOOMDArray([-192.8693055    91.67172887 -123.99517424]), HOOMDArray([0. 0. 0.]), HOOMDArray([0. 0. 0.]), HOOMDArray([0. 0. 0.]), HOOMDArray([0. 0. 0.]), HOOMDArray([0. 0. 0.]), HOOMDArray([0. 0. 0.]), HOOMDArray([0. 0. 0.]), HOOMDArray([0. 0. 0.]), HOOMDArray([0. 0. 0.]), HOOMDArray([0. 0. 0.]), HOOMDArray([0. 0. 0.]), HOOMDArray([0. 0. 0.]), HOOMDArray([0. 0. 0.]), HOOMDArray([0. 0. 0.]), HOOMDArray([0. 0. 0.]), HOOMDArray([0. 0. 0.]), HOOMDArray([0. 0. 0.]), HOOMDArray([0. 0. 0.]), HOOMDArray([0. 0. 0.]), HOOMDArray([0. 0. 0.]), HOOMDArray([182.30340026  12.64836933 154.75263293]), HOOMDArray([0. 0. 0.]), HOOMDArray([0. 0. 0.]), HOOMDArray([0. 0. 0.]), HOOMDArray([0. 0. 0.]), HOOMDArray([0. 0. 0.]), HOOMDArray([0. 0. 0.]), HOOMDArray([0. 0. 0.]), HOOMDArray([0. 0. 0.]), HOOMDArray([0. 0. 0.]), HOOMDArray([ 7.43879978 81.20340575 39.13861507]), HOOMDArray([0. 0. 0.]), HOOMDArray([0. 0. 0.]), HOOMDArray([0. 0. 0.]), HOOMDArray([0. 0. 0.]), HOOMDArray([0. 0. 0.]), HOOMDArray([0. 0. 0.]), HOOMDArray([0. 0. 0.]), HOOMDArray([0. 0. 0.]), HOOMDArray([0. 0. 0.]), HOOMDArray([0. 0. 0.]), HOOMDArray([0. 0. 0.]), HOOMDArray([0. 0. 0.]), HOOMDArray([ -7.87036025 137.38469411 172.45607043]), HOOMDArray([0. 0. 0.]), HOOMDArray([0. 0. 0.]), HOOMDArray([0. 0. 0.]), HOOMDArray([0. 0. 0.]), HOOMDArray([0. 0. 0.]), HOOMDArray([ 2166.01171207  -216.21651672 -1912.57425643]), HOOMDArray([0. 0. 0.]), HOOMDArray([0. 0. 0.]), HOOMDArray([0. 0. 0.]), HOOMDArray([0. 0. 0.]), HOOMDArray([0. 0. 0.]), HOOMDArray([0. 0. 0.]), HOOMDArray([0. 0. 0.]), HOOMDArray([0. 0. 0.]), HOOMDArray([0. 0. 0.]), HOOMDArray([0. 0. 0.]), HOOMDArray([0. 0. 0.]), HOOMDArray([0. 0. 0.]), HOOMDArray([0. 0. 0.]), HOOMDArray([-2.09064483e+03  2.13487920e-01  2.02768605e+03]), HOOMDArray([0. 0. 0.]), HOOMDArray([0. 0. 0.]), HOOMDArray([0. 0. 0.]), HOOMDArray([0. 0. 0.]), HOOMDArray([0. 0. 0.]), HOOMDArray([0. 0. 0.]), HOOMDArray([0. 0. 0.]), HOOMDArray([0. 0. 0.]), HOOMDArray([0. 0. 0.]), HOOMDArray([0. 0. 0.]), HOOMDArray([0. 0. 0.]), HOOMDArray([0. 0. 0.]), HOOMDArray([0. 0. 0.]), HOOMDArray([ 292.73424167 -122.27357255  171.19775487]), HOOMDArray([0. 0. 0.]), HOOMDArray([0. 0. 0.]), HOOMDArray([0. 0. 0.]), HOOMDArray([0. 0. 0.]), HOOMDArray([0. 0. 0.]), HOOMDArray([0. 0. 0.]), HOOMDArray([0. 0. 0.]), HOOMDArray([0. 0. 0.]), HOOMDArray([0. 0. 0.]), HOOMDArray([  698.37049438   133.78670824 -2909.65883975]), HOOMDArray([0. 0. 0.]), HOOMDArray([0. 0. 0.]), HOOMDArray([0. 0. 0.]), HOOMDArray([0. 0. 0.]), HOOMDArray([0. 0. 0.]), HOOMDArray([0. 0. 0.]), HOOMDArray([0. 0. 0.]), HOOMDArray([ 130.80137145 -105.24510166   67.73881565]), HOOMDArray([0. 0. 0.]), HOOMDArray([0. 0. 0.]), HOOMDArray([0. 0. 0.]), HOOMDArray([0. 0. 0.]), HOOMDArray([0. 0. 0.]), HOOMDArray([0. 0. 0.]), HOOMDArray([0. 0. 0.]), HOOMDArray([0. 0. 0.]), HOOMDArray([  31.89657248 -135.08465065   54.70210114]), HOOMDArray([0. 0. 0.]), HOOMDArray([0. 0. 0.]), HOOMDArray([0. 0. 0.]), HOOMDArray([-508.31993777 -213.71312026 -182.22228247]), HOOMDArray([0. 0. 0.]), HOOMDArray([0. 0. 0.]), HOOMDArray([0. 0. 0.]), HOOMDArray([0. 0. 0.]), HOOMDArray([0. 0. 0.]), HOOMDArray([0. 0. 0.]), HOOMDArray([0. 0. 0.]), HOOMDArray([0. 0. 0.]), HOOMDArray([0. 0. 0.]), HOOMDArray([0. 0. 0.]), HOOMDArray([0. 0. 0.]), HOOMDArray([0. 0. 0.]), HOOMDArray([0. 0. 0.]), HOOMDArray([0. 0. 0.]), HOOMDArray([0. 0. 0.]), HOOMDArray([-102.14223576   78.8082023   -94.26081549]), HOOMDArray([0. 0. 0.])]\n"
     ]
    }
   ],
   "source": [
    "with simulation.sim.state.cpu_local_snapshot as local_snap:\n",
    "    print(list(local_snap.particles.net_torque))"
   ]
  },
  {
   "cell_type": "code",
   "execution_count": 18,
   "id": "6ecec1d0",
   "metadata": {
    "pycharm": {
     "name": "#%%\n"
    }
   },
   "outputs": [
    {
     "name": "stdout",
     "output_type": "stream",
     "text": [
      "597.5703482509191\n"
     ]
    }
   ],
   "source": [
    "with simulation.sim.state.cpu_local_snapshot as local_snap:\n",
    "    print(np.sum(local_snap.particles.net_torque))"
   ]
  },
  {
   "cell_type": "code",
   "execution_count": 54,
   "id": "5f345d9d",
   "metadata": {
    "pycharm": {
     "name": "#%%\n"
    }
   },
   "outputs": [
    {
     "data": {
      "text/plain": [
       "_HOOMDDict{'constituent_types': ['ca', 'ca', 'ca', 'ca', 'ca', 'ca'], 'positions': [(-0.19529553486151485, 0.010921415422309622, 0.32508352981420785), (0.16532738832622584, -0.09323183804033874, 0.3211156264734214), (0.35767697477272975, -0.10253227795710984, 3.142893735486041e-05), (0.19516972557362067, -0.01098399268148853, -0.3247863579869019), (-0.16528482830689484, 0.09324783312452212, -0.3213895072132047), (-0.35759372550414525, 0.10257886013211959, -5.4720024849075344e-05)], 'orientations': [(1.0, 0.0, 0.0, 0.0), (1.0, 0.0, 0.0, 0.0), (1.0, 0.0, 0.0, 0.0), (1.0, 0.0, 0.0, 0.0), (1.0, 0.0, 0.0, 0.0), (1.0, 0.0, 0.0, 0.0)], 'charges': [0.0, 0.0, 0.0, 0.0, 0.0, 0.0], 'diameters': [1.0, 1.0, 1.0, 1.0, 1.0, 1.0]}"
      ]
     },
     "execution_count": 54,
     "metadata": {},
     "output_type": "execute_result"
    }
   ],
   "source": [
    "simulation.sim.operations.integrator.rigid.body['R']"
   ]
  },
  {
   "cell_type": "code",
   "execution_count": null,
   "id": "1b1d2f9c",
   "metadata": {
    "pycharm": {
     "name": "#%%\n"
    }
   },
   "outputs": [],
   "source": []
  }
 ],
 "metadata": {
  "kernelspec": {
   "display_name": "Python 3 (ipykernel)",
   "language": "python",
   "name": "python3"
  },
  "language_info": {
   "codemirror_mode": {
    "name": "ipython",
    "version": 3
   },
   "file_extension": ".py",
   "mimetype": "text/x-python",
   "name": "python",
   "nbconvert_exporter": "python",
   "pygments_lexer": "ipython3",
   "version": "3.10.4"
  }
 },
 "nbformat": 4,
 "nbformat_minor": 5
}